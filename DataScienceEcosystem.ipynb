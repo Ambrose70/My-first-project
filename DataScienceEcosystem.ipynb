{
  "nbformat": 4,
  "nbformat_minor": 0,
  "metadata": {
    "colab": {
      "provenance": [],
      "authorship_tag": "ABX9TyNHuHKDHLDUIa9gvYyTcO5T",
      "include_colab_link": true
    },
    "kernelspec": {
      "name": "python3",
      "display_name": "Python 3"
    },
    "language_info": {
      "name": "python"
    }
  },
  "cells": [
    {
      "cell_type": "markdown",
      "metadata": {
        "id": "view-in-github",
        "colab_type": "text"
      },
      "source": [
        "<a href=\"https://colab.research.google.com/github/Ambrose70/My-first-project/blob/main/DataScienceEcosystem.ipynb\" target=\"_parent\"><img src=\"https://colab.research.google.com/assets/colab-badge.svg\" alt=\"Open In Colab\"/></a>"
      ]
    },
    {
      "cell_type": "code",
      "execution_count": null,
      "metadata": {
        "id": "I-LpzunwgDSV"
      },
      "outputs": [],
      "source": []
    },
    {
      "cell_type": "markdown",
      "source": [
        "# Data Science Tools and Ecosystem"
      ],
      "metadata": {
        "id": "AxCiNhBrgdY6"
      }
    },
    {
      "cell_type": "markdown",
      "source": [
        "In this notebook, we provide a summary of data science and ecosystem."
      ],
      "metadata": {
        "id": "6vYmTmiPhkOX"
      }
    },
    {
      "cell_type": "markdown",
      "source": [
        "Some of the data science languages commonly used include;\n",
        "\n",
        "\n",
        "1.   Python\n",
        "2.   R language\n",
        "3.   Java, Among others\n",
        "\n",
        "\n",
        "\n",
        "\n"
      ],
      "metadata": {
        "id": "Dpbhb-CPilxB"
      }
    },
    {
      "cell_type": "markdown",
      "source": [
        "There are three main libraries in Data Science. These includes;\n",
        "\n",
        "\n",
        "\n",
        "1.   Pandas\n",
        "2.   Numpy\n",
        "3.   Matplotlib\n",
        "4.   TensorFlow\n",
        "\n"
      ],
      "metadata": {
        "id": "uDpqnajmjXae"
      }
    },
    {
      "cell_type": "markdown",
      "source": [
        "# Arithmatic expression examples"
      ],
      "metadata": {
        "id": "7MZomFhgnHe7"
      }
    },
    {
      "cell_type": "markdown",
      "source": [
        "Bellow are some arithmatic examples"
      ],
      "metadata": {
        "id": "QEulYofgnNit"
      }
    },
    {
      "cell_type": "markdown",
      "source": [
        "# Converting Min into hours"
      ],
      "metadata": {
        "id": "Dtn69b5Ck_IH"
      }
    },
    {
      "cell_type": "markdown",
      "source": [
        "To convert Min to hours we use the code below that  will divide 200min by 60 min to get hours"
      ],
      "metadata": {
        "id": "pLGvuriflIbx"
      }
    },
    {
      "cell_type": "code",
      "source": [
        "# prompt: code to convert 200min to hours\n",
        "\n",
        "minutes = 200\n",
        "hours = minutes / 60\n",
        "hours\n"
      ],
      "metadata": {
        "colab": {
          "base_uri": "https://localhost:8080/"
        },
        "id": "nvjz25SulfPB",
        "outputId": "b9084a1f-6d8b-4adb-e860-690c304c85a4"
      },
      "execution_count": null,
      "outputs": [
        {
          "output_type": "execute_result",
          "data": {
            "text/plain": [
              "3.3333333333333335"
            ]
          },
          "metadata": {},
          "execution_count": 1
        }
      ]
    },
    {
      "cell_type": "markdown",
      "source": [
        "# Code to multiply and add number"
      ],
      "metadata": {
        "id": "IwGArQMmmJW0"
      }
    },
    {
      "cell_type": "markdown",
      "source": [
        "This simple arithmatic add and then subtract simple integers"
      ],
      "metadata": {
        "id": "XsB3eAOWmPey"
      }
    },
    {
      "cell_type": "code",
      "source": [
        "# prompt: code to multiple 3 and 4 then add 5\n",
        "\n",
        "# Multiply 3 and 4, then add 5\n",
        "result = (3 * 4) + 5\n",
        "result"
      ],
      "metadata": {
        "id": "Gy1otrRgmfRe"
      },
      "execution_count": null,
      "outputs": []
    }
  ]
}